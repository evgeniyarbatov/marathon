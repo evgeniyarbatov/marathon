{
 "cells": [
  {
   "cell_type": "markdown",
   "id": "64c1c498",
   "metadata": {},
   "source": [
    "# Marathon Dates"
   ]
  },
  {
   "cell_type": "code",
   "execution_count": null,
   "id": "a121503c",
   "metadata": {},
   "outputs": [],
   "source": [
    "import pandas as pd"
   ]
  },
  {
   "cell_type": "code",
   "execution_count": 2,
   "id": "db08bdaa",
   "metadata": {},
   "outputs": [],
   "source": [
    "pd.set_option('display.max_rows', None)"
   ]
  },
  {
   "cell_type": "code",
   "execution_count": 3,
   "id": "c261a24a",
   "metadata": {},
   "outputs": [],
   "source": [
    "df = pd.read_csv(\n",
    "    '../data/marathon.csv',\n",
    "    sep=',',\n",
    "    header=None,\n",
    "    names=[\n",
    "        'Rank',\n",
    "        'Time',\n",
    "        'Name',\n",
    "        'Country',\n",
    "        'Date of Birth',\n",
    "        'Place',\n",
    "        'City',\n",
    "        'Date',\n",
    "        'Gender',\n",
    "    ]\n",
    ")"
   ]
  },
  {
   "cell_type": "code",
   "execution_count": 4,
   "id": "f804f288",
   "metadata": {},
   "outputs": [],
   "source": [
    "df['Date'] = pd.to_datetime(df['Date'], format='%d.%m.%Y', errors='coerce')"
   ]
  },
  {
   "cell_type": "markdown",
   "id": "760702f1",
   "metadata": {},
   "source": [
    "When are marathons happening?"
   ]
  },
  {
   "cell_type": "code",
   "execution_count": 5,
   "id": "e178a9ab",
   "metadata": {},
   "outputs": [
    {
     "data": {
      "text/plain": [
       "Date\n",
       "01     787\n",
       "02     611\n",
       "03    1028\n",
       "04    2373\n",
       "05     375\n",
       "06      64\n",
       "07      87\n",
       "08     291\n",
       "09     597\n",
       "10    1879\n",
       "11     781\n",
       "12     537\n",
       "dtype: int64"
      ]
     },
     "execution_count": 5,
     "metadata": {},
     "output_type": "execute_result"
    }
   ],
   "source": [
    "df.groupby(df[\"Date\"].dt.strftime(\"%m\")).size()"
   ]
  },
  {
   "cell_type": "code",
   "execution_count": null,
   "id": "07a436fe",
   "metadata": {},
   "outputs": [],
   "source": []
  }
 ],
 "metadata": {
  "kernelspec": {
   "display_name": "Python 3 (ipykernel)",
   "language": "python",
   "name": "python3"
  },
  "language_info": {
   "codemirror_mode": {
    "name": "ipython",
    "version": 3
   },
   "file_extension": ".py",
   "mimetype": "text/x-python",
   "name": "python",
   "nbconvert_exporter": "python",
   "pygments_lexer": "ipython3",
   "version": "3.11.5"
  }
 },
 "nbformat": 4,
 "nbformat_minor": 5
}
