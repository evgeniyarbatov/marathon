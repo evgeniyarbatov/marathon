{
 "cells": [
  {
   "cell_type": "markdown",
   "id": "2d2c1719",
   "metadata": {},
   "source": [
    "# Athletes"
   ]
  },
  {
   "cell_type": "code",
   "execution_count": null,
   "id": "b5725258",
   "metadata": {},
   "outputs": [],
   "source": [
    "import pandas as pd"
   ]
  },
  {
   "cell_type": "code",
   "execution_count": 152,
   "id": "ca4334b2",
   "metadata": {},
   "outputs": [],
   "source": [
    "df = pd.read_csv(\n",
    "    '../data/marathon.csv',\n",
    "    sep=',',\n",
    "    header=None,\n",
    "    names=[\n",
    "        'Rank',\n",
    "        'Time',\n",
    "        'Name',\n",
    "        'Country',\n",
    "        'Date of Birth',\n",
    "        'Place',\n",
    "        'City',\n",
    "        'Date',\n",
    "        'Gender',\n",
    "    ]\n",
    ")"
   ]
  },
  {
   "cell_type": "code",
   "execution_count": null,
   "id": "0532927e",
   "metadata": {},
   "outputs": [],
   "source": [
    "df['Date of Birth'] = pd.to_datetime(df['Date of Birth'], format='%d.%m.%y', errors='coerce')\n",
    "df['Date'] = pd.to_datetime(df['Date'], format='%d.%m.%Y', errors='coerce')"
   ]
  },
  {
   "cell_type": "code",
   "execution_count": 145,
   "id": "3f1ebead",
   "metadata": {},
   "outputs": [
    {
     "data": {
      "text/html": [
       "<div>\n",
       "<style scoped>\n",
       "    .dataframe tbody tr th:only-of-type {\n",
       "        vertical-align: middle;\n",
       "    }\n",
       "\n",
       "    .dataframe tbody tr th {\n",
       "        vertical-align: top;\n",
       "    }\n",
       "\n",
       "    .dataframe thead th {\n",
       "        text-align: right;\n",
       "    }\n",
       "</style>\n",
       "<table border=\"1\" class=\"dataframe\">\n",
       "  <thead>\n",
       "    <tr style=\"text-align: right;\">\n",
       "      <th></th>\n",
       "      <th>Rank</th>\n",
       "      <th>Time</th>\n",
       "      <th>Name</th>\n",
       "      <th>Country</th>\n",
       "      <th>Date of Birth</th>\n",
       "      <th>Place</th>\n",
       "      <th>City</th>\n",
       "      <th>Date</th>\n",
       "      <th>Gender</th>\n",
       "    </tr>\n",
       "  </thead>\n",
       "  <tbody>\n",
       "    <tr>\n",
       "      <th>0</th>\n",
       "      <td>1</td>\n",
       "      <td>2:00:35</td>\n",
       "      <td>Kelvin Kiptum</td>\n",
       "      <td>KEN</td>\n",
       "      <td>1999-12-02</td>\n",
       "      <td>1</td>\n",
       "      <td>Chicago</td>\n",
       "      <td>2023-10-08</td>\n",
       "      <td>Men</td>\n",
       "    </tr>\n",
       "    <tr>\n",
       "      <th>1</th>\n",
       "      <td>2</td>\n",
       "      <td>2:01:09</td>\n",
       "      <td>Eliud Kipchoge</td>\n",
       "      <td>KEN</td>\n",
       "      <td>1984-11-05</td>\n",
       "      <td>1</td>\n",
       "      <td>Berlin</td>\n",
       "      <td>2022-09-25</td>\n",
       "      <td>Men</td>\n",
       "    </tr>\n",
       "    <tr>\n",
       "      <th>2</th>\n",
       "      <td>3</td>\n",
       "      <td>2:01:25</td>\n",
       "      <td>Kelvin Kiptum</td>\n",
       "      <td>KEN</td>\n",
       "      <td>1999-12-02</td>\n",
       "      <td>1</td>\n",
       "      <td>London</td>\n",
       "      <td>2023-04-23</td>\n",
       "      <td>Men</td>\n",
       "    </tr>\n",
       "    <tr>\n",
       "      <th>3</th>\n",
       "      <td>4</td>\n",
       "      <td>2:01:39</td>\n",
       "      <td>Eliud Kipchoge</td>\n",
       "      <td>KEN</td>\n",
       "      <td>1984-11-05</td>\n",
       "      <td>1</td>\n",
       "      <td>Berlin</td>\n",
       "      <td>2018-09-16</td>\n",
       "      <td>Men</td>\n",
       "    </tr>\n",
       "    <tr>\n",
       "      <th>4</th>\n",
       "      <td>5</td>\n",
       "      <td>2:01:41</td>\n",
       "      <td>Kenenisa Bekele</td>\n",
       "      <td>ETH</td>\n",
       "      <td>1982-06-13</td>\n",
       "      <td>1</td>\n",
       "      <td>Berlin</td>\n",
       "      <td>2019-09-29</td>\n",
       "      <td>Men</td>\n",
       "    </tr>\n",
       "  </tbody>\n",
       "</table>\n",
       "</div>"
      ],
      "text/plain": [
       "   Rank     Time             Name Country Date of Birth Place     City  \\\n",
       "0     1  2:00:35    Kelvin Kiptum     KEN    1999-12-02     1  Chicago   \n",
       "1     2  2:01:09   Eliud Kipchoge     KEN    1984-11-05     1   Berlin   \n",
       "2     3  2:01:25    Kelvin Kiptum     KEN    1999-12-02     1   London   \n",
       "3     4  2:01:39   Eliud Kipchoge     KEN    1984-11-05     1   Berlin   \n",
       "4     5  2:01:41  Kenenisa Bekele     ETH    1982-06-13     1   Berlin   \n",
       "\n",
       "        Date Gender  \n",
       "0 2023-10-08    Men  \n",
       "1 2022-09-25    Men  \n",
       "2 2023-04-23    Men  \n",
       "3 2018-09-16    Men  \n",
       "4 2019-09-29    Men  "
      ]
     },
     "execution_count": 145,
     "metadata": {},
     "output_type": "execute_result"
    }
   ],
   "source": [
    "df.head()"
   ]
  },
  {
   "cell_type": "markdown",
   "id": "f584a950",
   "metadata": {},
   "source": [
    "How many entries do we have?"
   ]
  },
  {
   "cell_type": "code",
   "execution_count": 146,
   "id": "8141a006",
   "metadata": {},
   "outputs": [
    {
     "data": {
      "text/plain": [
       "9477"
      ]
     },
     "execution_count": 146,
     "metadata": {},
     "output_type": "execute_result"
    }
   ],
   "source": [
    "df.shape[0]"
   ]
  },
  {
   "cell_type": "markdown",
   "id": "584a21e8",
   "metadata": {},
   "source": [
    "How many athletes are there?"
   ]
  },
  {
   "cell_type": "code",
   "execution_count": 147,
   "id": "382f875c",
   "metadata": {},
   "outputs": [
    {
     "data": {
      "text/plain": [
       "2879"
      ]
     },
     "execution_count": 147,
     "metadata": {},
     "output_type": "execute_result"
    }
   ],
   "source": [
    "df['Name'].nunique()"
   ]
  },
  {
   "cell_type": "markdown",
   "id": "80378c93",
   "metadata": {},
   "source": [
    "Who are the top runners?"
   ]
  },
  {
   "cell_type": "code",
   "execution_count": 151,
   "id": "0e36663f",
   "metadata": {},
   "outputs": [
    {
     "data": {
      "text/html": [
       "<div>\n",
       "<style scoped>\n",
       "    .dataframe tbody tr th:only-of-type {\n",
       "        vertical-align: middle;\n",
       "    }\n",
       "\n",
       "    .dataframe tbody tr th {\n",
       "        vertical-align: top;\n",
       "    }\n",
       "\n",
       "    .dataframe thead th {\n",
       "        text-align: right;\n",
       "    }\n",
       "</style>\n",
       "<table border=\"1\" class=\"dataframe\">\n",
       "  <thead>\n",
       "    <tr style=\"text-align: right;\">\n",
       "      <th></th>\n",
       "      <th>Name</th>\n",
       "      <th>Time</th>\n",
       "      <th>Gender</th>\n",
       "    </tr>\n",
       "  </thead>\n",
       "  <tbody>\n",
       "    <tr>\n",
       "      <th>0</th>\n",
       "      <td>Kelvin Kiptum</td>\n",
       "      <td>2:00:35</td>\n",
       "      <td>Men</td>\n",
       "    </tr>\n",
       "    <tr>\n",
       "      <th>1</th>\n",
       "      <td>Eliud Kipchoge</td>\n",
       "      <td>2:01:09</td>\n",
       "      <td>Men</td>\n",
       "    </tr>\n",
       "    <tr>\n",
       "      <th>2</th>\n",
       "      <td>Kelvin Kiptum</td>\n",
       "      <td>2:01:25</td>\n",
       "      <td>Men</td>\n",
       "    </tr>\n",
       "    <tr>\n",
       "      <th>3</th>\n",
       "      <td>Eliud Kipchoge</td>\n",
       "      <td>2:01:39</td>\n",
       "      <td>Men</td>\n",
       "    </tr>\n",
       "    <tr>\n",
       "      <th>4</th>\n",
       "      <td>Kenenisa Bekele</td>\n",
       "      <td>2:01:41</td>\n",
       "      <td>Men</td>\n",
       "    </tr>\n",
       "    <tr>\n",
       "      <th>4951</th>\n",
       "      <td>Tigist Assefa</td>\n",
       "      <td>2:11:53</td>\n",
       "      <td>Women</td>\n",
       "    </tr>\n",
       "    <tr>\n",
       "      <th>4952</th>\n",
       "      <td>Sifan Hassan</td>\n",
       "      <td>2:13:44</td>\n",
       "      <td>Women</td>\n",
       "    </tr>\n",
       "    <tr>\n",
       "      <th>4953</th>\n",
       "      <td>Brigid Kosgei</td>\n",
       "      <td>2:14:04</td>\n",
       "      <td>Women</td>\n",
       "    </tr>\n",
       "    <tr>\n",
       "      <th>4954</th>\n",
       "      <td>Ruth Chepngetich</td>\n",
       "      <td>2:14:18</td>\n",
       "      <td>Women</td>\n",
       "    </tr>\n",
       "    <tr>\n",
       "      <th>4955</th>\n",
       "      <td>Amane Beriso</td>\n",
       "      <td>2:14:58</td>\n",
       "      <td>Women</td>\n",
       "    </tr>\n",
       "  </tbody>\n",
       "</table>\n",
       "</div>"
      ],
      "text/plain": [
       "                  Name     Time Gender\n",
       "0        Kelvin Kiptum  2:00:35    Men\n",
       "1       Eliud Kipchoge  2:01:09    Men\n",
       "2        Kelvin Kiptum  2:01:25    Men\n",
       "3       Eliud Kipchoge  2:01:39    Men\n",
       "4      Kenenisa Bekele  2:01:41    Men\n",
       "4951     Tigist Assefa  2:11:53  Women\n",
       "4952      Sifan Hassan  2:13:44  Women\n",
       "4953     Brigid Kosgei  2:14:04  Women\n",
       "4954  Ruth Chepngetich  2:14:18  Women\n",
       "4955      Amane Beriso  2:14:58  Women"
      ]
     },
     "execution_count": 151,
     "metadata": {},
     "output_type": "execute_result"
    }
   ],
   "source": [
    "df.groupby('Gender').head(5)\\\n",
    "    [['Name', 'Time', 'Gender']]"
   ]
  },
  {
   "cell_type": "code",
   "execution_count": null,
   "id": "5024fae7",
   "metadata": {},
   "outputs": [],
   "source": []
  }
 ],
 "metadata": {
  "kernelspec": {
   "display_name": "Python 3 (ipykernel)",
   "language": "python",
   "name": "python3"
  },
  "language_info": {
   "codemirror_mode": {
    "name": "ipython",
    "version": 3
   },
   "file_extension": ".py",
   "mimetype": "text/x-python",
   "name": "python",
   "nbconvert_exporter": "python",
   "pygments_lexer": "ipython3",
   "version": "3.11.5"
  }
 },
 "nbformat": 4,
 "nbformat_minor": 5
}
