{
 "cells": [
  {
   "cell_type": "code",
   "execution_count": 1,
   "id": "d72e0f1a",
   "metadata": {},
   "outputs": [],
   "source": [
    "import pandas as pd"
   ]
  },
  {
   "cell_type": "code",
   "execution_count": null,
   "id": "a0bf8360",
   "metadata": {},
   "outputs": [],
   "source": [
    "df = pd.read_csv(\n",
    "    '../data/marathon.csv',\n",
    "    index_col=0,\n",
    "    on_bad_lines='skip',\n",
    "    header=None,\n",
    "    names=[\n",
    "        'Rank'\n",
    "        'Time'\n",
    "        'Name'\n",
    "        'Country'\n",
    "        'Date of Birth'\n",
    "        'Place'\n",
    "        'City'\n",
    "        'Date',\n",
    "        'Gender',\n",
    "    ]\n",
    ")"
   ]
  }
 ],
 "metadata": {
  "kernelspec": {
   "display_name": "Python 3 (ipykernel)",
   "language": "python",
   "name": "python3"
  },
  "language_info": {
   "codemirror_mode": {
    "name": "ipython",
    "version": 3
   },
   "file_extension": ".py",
   "mimetype": "text/x-python",
   "name": "python",
   "nbconvert_exporter": "python",
   "pygments_lexer": "ipython3",
   "version": "3.11.5"
  }
 },
 "nbformat": 4,
 "nbformat_minor": 5
}
