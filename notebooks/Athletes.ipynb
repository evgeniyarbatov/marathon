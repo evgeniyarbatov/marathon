{
 "cells": [
  {
   "cell_type": "markdown",
   "id": "65b34c83",
   "metadata": {},
   "source": [
    "# Athletes"
   ]
  },
  {
   "cell_type": "code",
   "execution_count": null,
   "id": "19af9c15",
   "metadata": {},
   "outputs": [],
   "source": [
    "import pandas as pd"
   ]
  },
  {
   "cell_type": "code",
   "execution_count": 154,
   "id": "6c7261db",
   "metadata": {},
   "outputs": [],
   "source": [
    "pd.set_option('display.max_rows', None)"
   ]
  },
  {
   "cell_type": "code",
   "execution_count": 155,
   "id": "0ac9890f",
   "metadata": {},
   "outputs": [],
   "source": [
    "df = pd.read_csv(\n",
    "    '../data/marathon.csv',\n",
    "    sep=',',\n",
    "    header=None,\n",
    "    names=[\n",
    "        'Rank',\n",
    "        'Time',\n",
    "        'Name',\n",
    "        'Country',\n",
    "        'Date of Birth',\n",
    "        'Place',\n",
    "        'City',\n",
    "        'Date',\n",
    "        'Gender',\n",
    "    ]\n",
    ")"
   ]
  },
  {
   "cell_type": "code",
   "execution_count": 160,
   "id": "d28efb6e",
   "metadata": {},
   "outputs": [],
   "source": [
    "df = df.sort_values('Time')"
   ]
  },
  {
   "cell_type": "code",
   "execution_count": 161,
   "id": "35c7e83f",
   "metadata": {},
   "outputs": [],
   "source": [
    "df['Date of Birth'] = pd.to_datetime(df['Date of Birth'], format='%d.%m.%y', errors='coerce')\n",
    "df['Date'] = pd.to_datetime(df['Date'], format='%d.%m.%Y', errors='coerce')"
   ]
  },
  {
   "cell_type": "code",
   "execution_count": 162,
   "id": "13225b18",
   "metadata": {},
   "outputs": [
    {
     "data": {
      "text/html": [
       "<div>\n",
       "<style scoped>\n",
       "    .dataframe tbody tr th:only-of-type {\n",
       "        vertical-align: middle;\n",
       "    }\n",
       "\n",
       "    .dataframe tbody tr th {\n",
       "        vertical-align: top;\n",
       "    }\n",
       "\n",
       "    .dataframe thead th {\n",
       "        text-align: right;\n",
       "    }\n",
       "</style>\n",
       "<table border=\"1\" class=\"dataframe\">\n",
       "  <thead>\n",
       "    <tr style=\"text-align: right;\">\n",
       "      <th></th>\n",
       "      <th>Rank</th>\n",
       "      <th>Time</th>\n",
       "      <th>Name</th>\n",
       "      <th>Country</th>\n",
       "      <th>Date of Birth</th>\n",
       "      <th>Place</th>\n",
       "      <th>City</th>\n",
       "      <th>Date</th>\n",
       "      <th>Gender</th>\n",
       "    </tr>\n",
       "  </thead>\n",
       "  <tbody>\n",
       "    <tr>\n",
       "      <th>0</th>\n",
       "      <td>1</td>\n",
       "      <td>2:00:35</td>\n",
       "      <td>Kelvin Kiptum</td>\n",
       "      <td>KEN</td>\n",
       "      <td>1999-12-02</td>\n",
       "      <td>1</td>\n",
       "      <td>Chicago</td>\n",
       "      <td>2023-10-08</td>\n",
       "      <td>Men</td>\n",
       "    </tr>\n",
       "    <tr>\n",
       "      <th>1</th>\n",
       "      <td>2</td>\n",
       "      <td>2:01:09</td>\n",
       "      <td>Eliud Kipchoge</td>\n",
       "      <td>KEN</td>\n",
       "      <td>1984-11-05</td>\n",
       "      <td>1</td>\n",
       "      <td>Berlin</td>\n",
       "      <td>2022-09-25</td>\n",
       "      <td>Men</td>\n",
       "    </tr>\n",
       "    <tr>\n",
       "      <th>2</th>\n",
       "      <td>3</td>\n",
       "      <td>2:01:25</td>\n",
       "      <td>Kelvin Kiptum</td>\n",
       "      <td>KEN</td>\n",
       "      <td>1999-12-02</td>\n",
       "      <td>1</td>\n",
       "      <td>London</td>\n",
       "      <td>2023-04-23</td>\n",
       "      <td>Men</td>\n",
       "    </tr>\n",
       "    <tr>\n",
       "      <th>3</th>\n",
       "      <td>4</td>\n",
       "      <td>2:01:39</td>\n",
       "      <td>Eliud Kipchoge</td>\n",
       "      <td>KEN</td>\n",
       "      <td>1984-11-05</td>\n",
       "      <td>1</td>\n",
       "      <td>Berlin</td>\n",
       "      <td>2018-09-16</td>\n",
       "      <td>Men</td>\n",
       "    </tr>\n",
       "    <tr>\n",
       "      <th>4</th>\n",
       "      <td>5</td>\n",
       "      <td>2:01:41</td>\n",
       "      <td>Kenenisa Bekele</td>\n",
       "      <td>ETH</td>\n",
       "      <td>1982-06-13</td>\n",
       "      <td>1</td>\n",
       "      <td>Berlin</td>\n",
       "      <td>2019-09-29</td>\n",
       "      <td>Men</td>\n",
       "    </tr>\n",
       "  </tbody>\n",
       "</table>\n",
       "</div>"
      ],
      "text/plain": [
       "   Rank     Time             Name Country Date of Birth Place     City  \\\n",
       "0     1  2:00:35    Kelvin Kiptum     KEN    1999-12-02     1  Chicago   \n",
       "1     2  2:01:09   Eliud Kipchoge     KEN    1984-11-05     1   Berlin   \n",
       "2     3  2:01:25    Kelvin Kiptum     KEN    1999-12-02     1   London   \n",
       "3     4  2:01:39   Eliud Kipchoge     KEN    1984-11-05     1   Berlin   \n",
       "4     5  2:01:41  Kenenisa Bekele     ETH    1982-06-13     1   Berlin   \n",
       "\n",
       "        Date Gender  \n",
       "0 2023-10-08    Men  \n",
       "1 2022-09-25    Men  \n",
       "2 2023-04-23    Men  \n",
       "3 2018-09-16    Men  \n",
       "4 2019-09-29    Men  "
      ]
     },
     "execution_count": 162,
     "metadata": {},
     "output_type": "execute_result"
    }
   ],
   "source": [
    "df.head()"
   ]
  },
  {
   "cell_type": "markdown",
   "id": "efebc0b0",
   "metadata": {},
   "source": [
    "How many entries do we have?"
   ]
  },
  {
   "cell_type": "code",
   "execution_count": 163,
   "id": "8adfbf7b",
   "metadata": {},
   "outputs": [
    {
     "data": {
      "text/plain": [
       "9410"
      ]
     },
     "execution_count": 163,
     "metadata": {},
     "output_type": "execute_result"
    }
   ],
   "source": [
    "df.shape[0]"
   ]
  },
  {
   "cell_type": "markdown",
   "id": "76b99448",
   "metadata": {},
   "source": [
    "How many athletes are there?"
   ]
  },
  {
   "cell_type": "code",
   "execution_count": 164,
   "id": "0094e27e",
   "metadata": {},
   "outputs": [
    {
     "data": {
      "text/plain": [
       "2822"
      ]
     },
     "execution_count": 164,
     "metadata": {},
     "output_type": "execute_result"
    }
   ],
   "source": [
    "df['Name'].nunique()"
   ]
  },
  {
   "cell_type": "markdown",
   "id": "80de8e30",
   "metadata": {},
   "source": [
    "How many nationalities?"
   ]
  },
  {
   "cell_type": "code",
   "execution_count": 165,
   "id": "5feb8d61",
   "metadata": {},
   "outputs": [
    {
     "data": {
      "text/plain": [
       "78"
      ]
     },
     "execution_count": 165,
     "metadata": {},
     "output_type": "execute_result"
    }
   ],
   "source": [
    "df['Country'].nunique()"
   ]
  },
  {
   "cell_type": "markdown",
   "id": "fc2ab629",
   "metadata": {},
   "source": [
    "What are the top nationalities?"
   ]
  },
  {
   "cell_type": "code",
   "execution_count": 166,
   "id": "9ac08fc8",
   "metadata": {},
   "outputs": [
    {
     "data": {
      "text/plain": [
       "Country\n",
       "KEN    3064\n",
       "ETH    2252\n",
       "JPN    1005\n",
       "USA     305\n",
       "RUS     266\n",
       "CHN     200\n",
       "ITA     163\n",
       "GER     143\n",
       "MAR     139\n",
       "GBR     120\n",
       "ESP     107\n",
       "ERI     106\n",
       "POR     101\n",
       "AUS      95\n",
       "RSA      86\n",
       "POL      84\n",
       "BRN      79\n",
       "FRA      66\n",
       "UGA      64\n",
       "MEX      62\n",
       "NED      60\n",
       "TAN      60\n",
       "ROU      59\n",
       "PRK      54\n",
       "KOR      53\n",
       "UKR      53\n",
       "BEL      51\n",
       "BRA      43\n",
       "NOR      36\n",
       "ISR      33\n",
       "CAN      30\n",
       "BLR      30\n",
       "NZL      22\n",
       "SUI      21\n",
       "SWE      21\n",
       "LAT      20\n",
       "NAM      19\n",
       "TUR      19\n",
       "IRL      17\n",
       "PER      15\n",
       "LTU      12\n",
       "ECU      12\n",
       "KGZ      11\n",
       "CRO      10\n",
       "FIN      10\n",
       "EST      10\n",
       "DJI       9\n",
       "HUN       9\n",
       "MGL       9\n",
       "QAT       8\n",
       "ALG       8\n",
       "BDI       7\n",
       "SLO       7\n",
       "CZE       6\n",
       "ZIM       5\n",
       "COD       5\n",
       "ARG       5\n",
       "FRG       5\n",
       "SRB       4\n",
       "KAZ       4\n",
       "COL       4\n",
       "LES       3\n",
       "GDR       3\n",
       "DEN       3\n",
       "MDA       3\n",
       "BOL       2\n",
       "RWA       2\n",
       "CYP       1\n",
       "SVK       1\n",
       "PAR       1\n",
       "CHI       1\n",
       "PAN       1\n",
       "UAE       1\n",
       "BEl       1\n",
       "LUX       1\n",
       "AUT       1\n",
       "UZB       1\n",
       "MRI       1\n",
       "dtype: int64"
      ]
     },
     "execution_count": 166,
     "metadata": {},
     "output_type": "execute_result"
    }
   ],
   "source": [
    "df.groupby('Country')\\\n",
    "    .size()\\\n",
    "    .sort_values(ascending=False)"
   ]
  },
  {
   "cell_type": "markdown",
   "id": "8bd3bae5",
   "metadata": {},
   "source": [
    "Who are the top runners?"
   ]
  },
  {
   "cell_type": "code",
   "execution_count": 167,
   "id": "5e82fe82",
   "metadata": {},
   "outputs": [
    {
     "data": {
      "text/html": [
       "<div>\n",
       "<style scoped>\n",
       "    .dataframe tbody tr th:only-of-type {\n",
       "        vertical-align: middle;\n",
       "    }\n",
       "\n",
       "    .dataframe tbody tr th {\n",
       "        vertical-align: top;\n",
       "    }\n",
       "\n",
       "    .dataframe thead th {\n",
       "        text-align: right;\n",
       "    }\n",
       "</style>\n",
       "<table border=\"1\" class=\"dataframe\">\n",
       "  <thead>\n",
       "    <tr style=\"text-align: right;\">\n",
       "      <th></th>\n",
       "      <th>Name</th>\n",
       "      <th>Time</th>\n",
       "      <th>Gender</th>\n",
       "    </tr>\n",
       "  </thead>\n",
       "  <tbody>\n",
       "    <tr>\n",
       "      <th>0</th>\n",
       "      <td>Kelvin Kiptum</td>\n",
       "      <td>2:00:35</td>\n",
       "      <td>Men</td>\n",
       "    </tr>\n",
       "    <tr>\n",
       "      <th>1</th>\n",
       "      <td>Eliud Kipchoge</td>\n",
       "      <td>2:01:09</td>\n",
       "      <td>Men</td>\n",
       "    </tr>\n",
       "    <tr>\n",
       "      <th>2</th>\n",
       "      <td>Kelvin Kiptum</td>\n",
       "      <td>2:01:25</td>\n",
       "      <td>Men</td>\n",
       "    </tr>\n",
       "    <tr>\n",
       "      <th>3</th>\n",
       "      <td>Eliud Kipchoge</td>\n",
       "      <td>2:01:39</td>\n",
       "      <td>Men</td>\n",
       "    </tr>\n",
       "    <tr>\n",
       "      <th>4</th>\n",
       "      <td>Kenenisa Bekele</td>\n",
       "      <td>2:01:41</td>\n",
       "      <td>Men</td>\n",
       "    </tr>\n",
       "    <tr>\n",
       "      <th>4909</th>\n",
       "      <td>Tigist Assefa</td>\n",
       "      <td>2:11:53</td>\n",
       "      <td>Women</td>\n",
       "    </tr>\n",
       "    <tr>\n",
       "      <th>4910</th>\n",
       "      <td>Sifan Hassan</td>\n",
       "      <td>2:13:44</td>\n",
       "      <td>Women</td>\n",
       "    </tr>\n",
       "    <tr>\n",
       "      <th>4911</th>\n",
       "      <td>Brigid Kosgei</td>\n",
       "      <td>2:14:04</td>\n",
       "      <td>Women</td>\n",
       "    </tr>\n",
       "    <tr>\n",
       "      <th>4912</th>\n",
       "      <td>Ruth Chepngetich</td>\n",
       "      <td>2:14:18</td>\n",
       "      <td>Women</td>\n",
       "    </tr>\n",
       "    <tr>\n",
       "      <th>4913</th>\n",
       "      <td>Amane Beriso</td>\n",
       "      <td>2:14:58</td>\n",
       "      <td>Women</td>\n",
       "    </tr>\n",
       "  </tbody>\n",
       "</table>\n",
       "</div>"
      ],
      "text/plain": [
       "                  Name     Time Gender\n",
       "0        Kelvin Kiptum  2:00:35    Men\n",
       "1       Eliud Kipchoge  2:01:09    Men\n",
       "2        Kelvin Kiptum  2:01:25    Men\n",
       "3       Eliud Kipchoge  2:01:39    Men\n",
       "4      Kenenisa Bekele  2:01:41    Men\n",
       "4909     Tigist Assefa  2:11:53  Women\n",
       "4910      Sifan Hassan  2:13:44  Women\n",
       "4911     Brigid Kosgei  2:14:04  Women\n",
       "4912  Ruth Chepngetich  2:14:18  Women\n",
       "4913      Amane Beriso  2:14:58  Women"
      ]
     },
     "execution_count": 167,
     "metadata": {},
     "output_type": "execute_result"
    }
   ],
   "source": [
    "df.groupby('Gender').head(5)\\\n",
    "    [['Name', 'Time', 'Gender']]"
   ]
  },
  {
   "cell_type": "markdown",
   "id": "0ff6593a",
   "metadata": {},
   "source": [
    "What is the best running time by country?"
   ]
  },
  {
   "cell_type": "code",
   "execution_count": 172,
   "id": "fa810482",
   "metadata": {},
   "outputs": [
    {
     "data": {
      "text/plain": [
       "Country\n",
       "KEN     2:00:35\n",
       "ETH     2:01:41\n",
       "TAN     2:03:00\n",
       "BEL     2:03:36\n",
       "TUR     2:04:16\n",
       "ERI     2:04:35\n",
       "BRN     2:04:43\n",
       "UGA     2:04:48\n",
       "BRA     2:04:51\n",
       "JPN     2:04:56\n",
       "NED     2:04:56\n",
       "GER     2:04:58\n",
       "USA    2:04:58a\n",
       "SUI     2:05:10\n",
       "GBR     2:05:11\n",
       "MAR     2:05:12\n",
       "FRA     2:05:22\n",
       "ISR     2:05:33\n",
       "CAN     2:05:36\n",
       "NOR     2:05:48\n",
       "ESP     2:06:25\n",
       "RSA     2:06:33\n",
       "POR     2:06:36\n",
       "DJI     2:06:43\n",
       "ZIM     2:06:48\n",
       "BDI     2:07:13\n",
       "UKR     2:07:15\n",
       "ITA     2:07:16\n",
       "QAT     2:07:19\n",
       "MEX    2:07:19a\n",
       "KOR     2:07:20\n",
       "CHN     2:07:30\n",
       "AUS     2:07:31\n",
       "POL     2:07:39\n",
       "PER     2:07:40\n",
       "BOL     2:07:49\n",
       "RWA     2:08:18\n",
       "NZL     2:08:19\n",
       "MDA     2:08:32\n",
       "COD     2:08:40\n",
       "NAM     2:08:40\n",
       "MGL     2:08:50\n",
       "EST     2:08:53\n",
       "RUS     2:09:07\n",
       "IRL    2:09:15a\n",
       "FRG     2:09:23\n",
       "ARG     2:09:36\n",
       "DEN     2:09:43\n",
       "LES     2:09:47\n",
       "SWE     2:09:47\n",
       "PAN     2:09:49\n",
       "ECU     2:09:49\n",
       "SVK     2:09:53\n",
       "ALG     2:09:54\n",
       "GDR     2:09:55\n",
       "AUT     2:10:06\n",
       "PAR     2:10:11\n",
       "BEl     2:10:17\n",
       "CYP     2:10:20\n",
       "CHI     2:10:26\n",
       "ROU     2:19:27\n",
       "LAT     2:22:56\n",
       "CRO     2:23:39\n",
       "BLR     2:23:54\n",
       "LTU     2:25:15\n",
       "CZE    2:25:19a\n",
       "SRB     2:25:23\n",
       "PRK     2:25:31\n",
       "COL     2:25:35\n",
       "KGZ    2:26:27a\n",
       "HUN     2:26:44\n",
       "KAZ     2:26:54\n",
       "UAE     2:27:08\n",
       "FIN     2:27:26\n",
       "SLO     2:27:33\n",
       "LUX     2:29:23\n",
       "UZB     2:29:28\n",
       "MRI     2:29:45\n",
       "Name: Time, dtype: object"
      ]
     },
     "execution_count": 172,
     "metadata": {},
     "output_type": "execute_result"
    }
   ],
   "source": [
    "df.groupby(['Country'])['Time'].min()\\\n",
    "    .sort_values(ascending=True)"
   ]
  },
  {
   "cell_type": "code",
   "execution_count": null,
   "id": "7b779ca5",
   "metadata": {},
   "outputs": [],
   "source": []
  }
 ],
 "metadata": {
  "kernelspec": {
   "display_name": "Python 3 (ipykernel)",
   "language": "python",
   "name": "python3"
  },
  "language_info": {
   "codemirror_mode": {
    "name": "ipython",
    "version": 3
   },
   "file_extension": ".py",
   "mimetype": "text/x-python",
   "name": "python",
   "nbconvert_exporter": "python",
   "pygments_lexer": "ipython3",
   "version": "3.11.5"
  }
 },
 "nbformat": 4,
 "nbformat_minor": 5
}
