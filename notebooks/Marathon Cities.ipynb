{
 "cells": [
  {
   "cell_type": "markdown",
   "id": "0dfdbde1",
   "metadata": {},
   "source": [
    "# Marathon Cities"
   ]
  },
  {
   "cell_type": "code",
   "execution_count": 1,
   "id": "6b423a34",
   "metadata": {},
   "outputs": [],
   "source": [
    "import pandas as pd"
   ]
  },
  {
   "cell_type": "code",
   "execution_count": 2,
   "id": "7b1ad52d",
   "metadata": {},
   "outputs": [],
   "source": [
    "df = pd.read_csv(\n",
    "    '../data/marathon.csv',\n",
    "    sep=',',\n",
    "    header=None,\n",
    "    names=[\n",
    "        'Rank',\n",
    "        'Time',\n",
    "        'Name',\n",
    "        'Country',\n",
    "        'Date of Birth',\n",
    "        'Place',\n",
    "        'City',\n",
    "        'Date',\n",
    "        'Gender',\n",
    "    ]\n",
    ")"
   ]
  },
  {
   "cell_type": "code",
   "execution_count": 8,
   "id": "53dbc630",
   "metadata": {},
   "outputs": [
    {
     "data": {
      "text/html": [
       "<div>\n",
       "<style scoped>\n",
       "    .dataframe tbody tr th:only-of-type {\n",
       "        vertical-align: middle;\n",
       "    }\n",
       "\n",
       "    .dataframe tbody tr th {\n",
       "        vertical-align: top;\n",
       "    }\n",
       "\n",
       "    .dataframe thead th {\n",
       "        text-align: right;\n",
       "    }\n",
       "</style>\n",
       "<table border=\"1\" class=\"dataframe\">\n",
       "  <thead>\n",
       "    <tr style=\"text-align: right;\">\n",
       "      <th></th>\n",
       "      <th>Rank</th>\n",
       "      <th>Time</th>\n",
       "      <th>Name</th>\n",
       "      <th>Country</th>\n",
       "      <th>Date of Birth</th>\n",
       "      <th>Place</th>\n",
       "      <th>City</th>\n",
       "      <th>Date</th>\n",
       "      <th>Gender</th>\n",
       "    </tr>\n",
       "  </thead>\n",
       "  <tbody>\n",
       "    <tr>\n",
       "      <th>2986</th>\n",
       "      <td>2971</td>\n",
       "      <td>2:09:19</td>\n",
       "      <td>Mathew Kipsaat</td>\n",
       "      <td>KEN</td>\n",
       "      <td>4</td>\n",
       "      <td>Roma</td>\n",
       "      <td>02.04.2017</td>\n",
       "      <td>Men</td>\n",
       "      <td>NaN</td>\n",
       "    </tr>\n",
       "  </tbody>\n",
       "</table>\n",
       "</div>"
      ],
      "text/plain": [
       "      Rank     Time            Name Country Date of Birth Place        City  \\\n",
       "2986  2971  2:09:19  Mathew Kipsaat     KEN             4  Roma  02.04.2017   \n",
       "\n",
       "     Date Gender  \n",
       "2986  Men    NaN  "
      ]
     },
     "execution_count": 8,
     "metadata": {},
     "output_type": "execute_result"
    }
   ],
   "source": [
    "df[df['City'] == '02.04.2017']"
   ]
  },
  {
   "cell_type": "markdown",
   "id": "27bf6179",
   "metadata": {},
   "source": [
    "How many cities hold marathons?"
   ]
  },
  {
   "cell_type": "code",
   "execution_count": 3,
   "id": "57ed191e",
   "metadata": {},
   "outputs": [
    {
     "data": {
      "text/plain": [
       "291"
      ]
     },
     "execution_count": 3,
     "metadata": {},
     "output_type": "execute_result"
    }
   ],
   "source": [
    "df['City'].nunique()"
   ]
  },
  {
   "cell_type": "markdown",
   "id": "eef91e44",
   "metadata": {},
   "source": [
    "What are the top cities?"
   ]
  },
  {
   "cell_type": "code",
   "execution_count": 6,
   "id": "185516ac",
   "metadata": {},
   "outputs": [
    {
     "data": {
      "text/plain": [
       "City\n",
       "02.04.2017     1\n",
       "02.04.2023     1\n",
       "05.03.2017     1\n",
       "07.04.2019     2\n",
       "07.11.2021     1\n",
       "              ..\n",
       "Yamaguchi      2\n",
       "Yingkou        1\n",
       "Yokohama      29\n",
       "Zhengzhou      9\n",
       "Zürich        30\n",
       "Length: 291, dtype: int64"
      ]
     },
     "execution_count": 6,
     "metadata": {},
     "output_type": "execute_result"
    }
   ],
   "source": [
    "df.groupby('City').size()"
   ]
  },
  {
   "cell_type": "code",
   "execution_count": null,
   "id": "9025d35e",
   "metadata": {},
   "outputs": [],
   "source": []
  }
 ],
 "metadata": {
  "kernelspec": {
   "display_name": "Python 3 (ipykernel)",
   "language": "python",
   "name": "python3"
  },
  "language_info": {
   "codemirror_mode": {
    "name": "ipython",
    "version": 3
   },
   "file_extension": ".py",
   "mimetype": "text/x-python",
   "name": "python",
   "nbconvert_exporter": "python",
   "pygments_lexer": "ipython3",
   "version": "3.11.5"
  }
 },
 "nbformat": 4,
 "nbformat_minor": 5
}
