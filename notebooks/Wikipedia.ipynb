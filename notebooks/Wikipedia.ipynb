{
 "cells": [
  {
   "cell_type": "code",
   "execution_count": 64,
   "id": "5c8f4804",
   "metadata": {},
   "outputs": [],
   "source": [
    "import pandas as pd\n",
    "import wikipedia"
   ]
  },
  {
   "cell_type": "code",
   "execution_count": 65,
   "id": "0ea9c021",
   "metadata": {},
   "outputs": [],
   "source": [
    "df = pd.read_csv(\n",
    "    '../data/marathon.csv',\n",
    "    sep=',',\n",
    "    header=None,\n",
    "    names=[\n",
    "        'Rank',\n",
    "        'Time',\n",
    "        'Name',\n",
    "        'Country',\n",
    "        'Date of Birth',\n",
    "        'Place',\n",
    "        'City',\n",
    "        'Date',\n",
    "        'Gender',\n",
    "    ]\n",
    ")"
   ]
  },
  {
   "cell_type": "code",
   "execution_count": 66,
   "id": "88a5dd4d",
   "metadata": {},
   "outputs": [],
   "source": [
    "df = df.sort_values('Time')"
   ]
  },
  {
   "cell_type": "code",
   "execution_count": 67,
   "id": "90968e2c",
   "metadata": {},
   "outputs": [],
   "source": [
    "class Color:\n",
    "   BOLD = '\\033[1m'\n",
    "   END = '\\033[0m'"
   ]
  },
  {
   "cell_type": "code",
   "execution_count": 68,
   "id": "51683927",
   "metadata": {},
   "outputs": [],
   "source": [
    "# From https://stackoverflow.com/a/25122110/12817270\n",
    "def cache(filename):\n",
    "    def decorator(func):\n",
    "        def wrapped(*args, **kwargs):\n",
    "            key = (args, kwargs.items())\n",
    "            try:\n",
    "                hash(key)\n",
    "            except TypeError:\n",
    "                return func(*args, **kwargs)\n",
    "            try:\n",
    "                with open(filename) as f:\n",
    "                    cache = pickle.load(f)\n",
    "            except Exception:\n",
    "                cache = {}\n",
    "            if key in cache:\n",
    "                return cache[key]\n",
    "            else:\n",
    "                value = func(*args, **kwargs)\n",
    "                cache[key] = value\n",
    "                with open(filename, \"w\") as f:\n",
    "                    pickle.dump(cache, f)\n",
    "                return value\n",
    "        return wrapped\n",
    "    return decorator"
   ]
  },
  {
   "cell_type": "code",
   "execution_count": 69,
   "id": "34f89edc",
   "metadata": {},
   "outputs": [],
   "source": [
    "@cache('/Users/zhenya/gitRepo/marathon/data/wikipedia-summary.pickle')\n",
    "def get_wikipedia_summary(term):\n",
    "    try:\n",
    "        summary = wikipedia.summary(term)\n",
    "        return summary.replace(\"\\n\", \" \")\n",
    "    except wikipedia.exceptions.PageError:\n",
    "        return 'Not Found'\n",
    "    except DisambiguationError:\n",
    "        return 'Several Matching Entries'"
   ]
  },
  {
   "cell_type": "code",
   "execution_count": 70,
   "id": "68e06408",
   "metadata": {},
   "outputs": [],
   "source": [
    "@cache('/Users/zhenya/gitRepo/marathon/data/wikipedia-url.pickle')\n",
    "def get_wikipedia_url(term):\n",
    "    try:\n",
    "        page = wikipedia.page(term)\n",
    "        return page.url\n",
    "    except wikipedia.exceptions.PageError:\n",
    "        return 'no url'\n",
    "    except wikipedia.exceptions.DisambiguationError:\n",
    "        return 'no url'"
   ]
  },
  {
   "cell_type": "code",
   "execution_count": 72,
   "id": "ae812d74",
   "metadata": {
    "scrolled": false
   },
   "outputs": [
    {
     "ename": "ValueError",
     "evalue": "too many values to unpack (expected 2)",
     "output_type": "error",
     "traceback": [
      "\u001b[0;31m---------------------------------------------------------------------------\u001b[0m",
      "\u001b[0;31mValueError\u001b[0m                                Traceback (most recent call last)",
      "Input \u001b[0;32mIn [72]\u001b[0m, in \u001b[0;36m<cell line: 0>\u001b[0;34m()\u001b[0m\n\u001b[0;32m----> 1\u001b[0m \u001b[38;5;28;01mfor\u001b[39;00m index, row \u001b[38;5;129;01min\u001b[39;00m df[\u001b[38;5;124m'\u001b[39m\u001b[38;5;124mName\u001b[39m\u001b[38;5;124m'\u001b[39m]\u001b[38;5;241m.\u001b[39munique():\n\u001b[1;32m      2\u001b[0m     summary \u001b[38;5;241m=\u001b[39m get_wikipedia_summary(name)\n\u001b[1;32m      4\u001b[0m     \u001b[38;5;28mprint\u001b[39m(\n\u001b[1;32m      5\u001b[0m         Color\u001b[38;5;241m.\u001b[39mBOLD \u001b[38;5;241m+\u001b[39m name \u001b[38;5;241m+\u001b[39m Color\u001b[38;5;241m.\u001b[39mEND,\n\u001b[1;32m      6\u001b[0m         \u001b[38;5;124m'\u001b[39m\u001b[38;5;124m(\u001b[39m\u001b[38;5;124m'\u001b[39m \u001b[38;5;241m+\u001b[39m get_wikipedia_url(name) \u001b[38;5;241m+\u001b[39m \u001b[38;5;124m'\u001b[39m\u001b[38;5;124m)\u001b[39m\u001b[38;5;124m'\u001b[39m,\n\u001b[1;32m      7\u001b[0m         get_wikipedia_summary(name)\n\u001b[1;32m      8\u001b[0m     )\n",
      "\u001b[0;31mValueError\u001b[0m: too many values to unpack (expected 2)"
     ]
    }
   ],
   "source": [
    "\n",
    "\n",
    "for row in df['Name'].unique():\n",
    "    summary = get_wikipedia_summary(name)\n",
    "    \n",
    "    print(\n",
    "        Color.BOLD + name + Color.END,\n",
    "        '(' + get_wikipedia_url(name) + ')',\n",
    "        get_wikipedia_summary(name)\n",
    "    )\n",
    "    print(\"\\n\")\n",
    "    print(df[df['Name'] == name][['Rank', 'Time', 'City', 'Date', 'Place']])\n",
    "    print(\"\\n\\n\")\n",
    "    break\n"
   ]
  },
  {
   "cell_type": "code",
   "execution_count": null,
   "id": "f17b1f01",
   "metadata": {},
   "outputs": [],
   "source": []
  },
  {
   "cell_type": "code",
   "execution_count": null,
   "id": "ddf1eb49",
   "metadata": {},
   "outputs": [],
   "source": []
  }
 ],
 "metadata": {
  "kernelspec": {
   "display_name": "Python 3 (ipykernel)",
   "language": "python",
   "name": "python3"
  },
  "language_info": {
   "codemirror_mode": {
    "name": "ipython",
    "version": 3
   },
   "file_extension": ".py",
   "mimetype": "text/x-python",
   "name": "python",
   "nbconvert_exporter": "python",
   "pygments_lexer": "ipython3",
   "version": "3.11.5"
  }
 },
 "nbformat": 4,
 "nbformat_minor": 5
}
